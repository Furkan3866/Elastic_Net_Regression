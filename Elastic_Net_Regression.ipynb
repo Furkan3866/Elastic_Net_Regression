{
 "cells": [
  {
   "cell_type": "code",
   "execution_count": 1,
   "id": "03582ac2",
   "metadata": {
    "pycharm": {
     "name": "#%%\n"
    }
   },
   "outputs": [],
   "source": [
    "import pandas as pd \n",
    "from sklearn.datasets import load_boston\n",
    "from sklearn.model_selection import train_test_split\n",
    "from sklearn.linear_model import ElasticNet, ElasticNetCV\n",
    "from sklearn import metrics as mt\n"
   ]
  },
  {
   "cell_type": "code",
   "execution_count": 2,
   "id": "94895d4d",
   "metadata": {
    "pycharm": {
     "name": "#%%\n"
    }
   },
   "outputs": [],
   "source": [
    "# Veri setinin yüklenip kopyasının oluşturulması\n",
    "boston = load_boston()\n",
    "data = pd.DataFrame(boston.data, columns=boston.feature_names)\n",
    "veri = data.copy()"
   ]
  },
  {
   "cell_type": "code",
   "execution_count": 3,
   "id": "01dbacc9",
   "metadata": {
    "pycharm": {
     "name": "#%%\n"
    }
   },
   "outputs": [],
   "source": [
    "# Hedef değişkenin DataFrame'e eklenmesi\n",
    "veri[\"PRICE\"] = boston.target\n",
    "\n",
    "# Bağımlı ve bağımsız değişkenlerin belirlenmesi\n",
    "y = veri[\"PRICE\"]\n",
    "X = veri.drop(\"PRICE\", axis=1)\n"
   ]
  },
  {
   "cell_type": "code",
   "execution_count": 11,
   "id": "b52c1005",
   "metadata": {
    "pycharm": {
     "name": "#%%\n"
    }
   },
   "outputs": [
    {
     "name": "stdout",
     "output_type": "stream",
     "text": [
      "Eğitim kümesi skoru: 0.7365\n",
      "Test kümesi skoru: 0.6667\n"
     ]
    }
   ],
   "source": [
    "\n",
    "# Verinin eğitim ve test kümelerine ayrılması \n",
    "X_train, X_test, y_train, y_test = train_test_split(X, y, test_size=0.2, random_state=42)\n",
    "\n",
    "# alpha = 0.1 olan bir ElasticNet modelinin eğitilmesi\n",
    "elas_model = ElasticNet(alpha=0.1)\n",
    "elas_model.fit(X_train, y_train)\n",
    "\n",
    "# Modelin performansını eğitim ve test kümeleri üzerinde değerlendirilmesi\n",
    "print(\"Eğitim kümesi skoru: {:.4f}\".format(elas_model.score(X_train, y_train)))\n",
    "print(\"Test kümesi skoru: {:.4f}\".format(elas_model.score(X_test, y_test)))\n"
   ]
  },
  {
   "cell_type": "code",
   "execution_count": 12,
   "id": "b3855c7f",
   "metadata": {
    "pycharm": {
     "name": "#%%\n"
    }
   },
   "outputs": [
    {
     "name": "stdout",
     "output_type": "stream",
     "text": [
      "Ortalama kare hata: 24.4397\n"
     ]
    }
   ],
   "source": [
    "# Test kümesinde tahmin yapılıp ortalama kare hatasının hesaplanması\n",
    "tahmin = elas_model.predict(X_test)\n",
    "mse = mt.mean_squared_error(y_test, tahmin)\n",
    "print(\"Ortalama kare hata: {:.4f}\".format(mse))\n"
   ]
  },
  {
   "cell_type": "code",
   "execution_count": 13,
   "id": "aaf76dc7",
   "metadata": {
    "pycharm": {
     "name": "#%%\n"
    }
   },
   "outputs": [
    {
     "data": {
      "text/plain": [
       "ElasticNet(alpha=1.422521559160866)"
      ]
     },
     "execution_count": 13,
     "metadata": {},
     "output_type": "execute_result"
    }
   ],
   "source": [
    "# ElasticNetCV kullanarak alpha'nın optimal değerinin bulunması\n",
    "lamb = ElasticNetCV(cv=10, max_iter=10000).fit(X_train, y_train).alpha_\n",
    "\n",
    "# Optimal alpha değeri ile yeni bir ElasticNet modelinin eğitilmesi\n",
    "elas_model2 = ElasticNet(alpha=lamb)\n",
    "elas_model2.fit(X_train, y_train)\n"
   ]
  },
  {
   "cell_type": "code",
   "execution_count": 14,
   "id": "46378fd1",
   "metadata": {
    "pycharm": {
     "name": "#%%\n"
    }
   },
   "outputs": [
    {
     "name": "stdout",
     "output_type": "stream",
     "text": [
      "Eğitim kümesi skoru: 0.6751\n",
      "Test kümesi skoru: 0.6651\n"
     ]
    }
   ],
   "source": [
    "# Yeni modelin performansının eğitim ve test kümeleri üzerinde değerlendirilmesi\n",
    "print(\"Eğitim kümesi skoru: {:.4f}\".format(elas_model2.score(X_train, y_train)))\n",
    "print(\"Test kümesi skoru: {:.4f}\".format(elas_model2.score(X_test, y_test)))\n",
    "\n"
   ]
  },
  {
   "cell_type": "code",
   "execution_count": 15,
   "id": "ad70ccfa",
   "metadata": {
    "pycharm": {
     "name": "#%%\n"
    }
   },
   "outputs": [
    {
     "name": "stdout",
     "output_type": "stream",
     "text": [
      "Ortalama kare hata: 24.5579\n"
     ]
    }
   ],
   "source": [
    "# Yeni modeli kullanarak test kümesinde tahmin yapılıp mse'nin hesaplanması\n",
    "tahmin2 = elas_model2.predict(X_test)\n",
    "mse2 = mt.mean_squared_error(y_test, tahmin2)\n",
    "print(\"Ortalama kare hata: {:.4f}\".format(mse2))"
   ]
  },
  {
   "cell_type": "code",
   "execution_count": null,
   "id": "e2330d57",
   "metadata": {
    "pycharm": {
     "name": "#%%\n"
    }
   },
   "outputs": [],
   "source": []
  }
 ],
 "metadata": {
  "kernelspec": {
   "display_name": "Python 3",
   "language": "python",
   "name": "python3"
  },
  "language_info": {
   "codemirror_mode": {
    "name": "ipython",
    "version": 3
   },
   "file_extension": ".py",
   "mimetype": "text/x-python",
   "name": "python",
   "nbconvert_exporter": "python",
   "pygments_lexer": "ipython3",
   "version": "3.8.8"
  }
 },
 "nbformat": 4,
 "nbformat_minor": 5
}